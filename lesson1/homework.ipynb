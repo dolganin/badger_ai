{
 "cells": [
  {
   "cell_type": "code",
   "execution_count": null,
   "id": "c76e2487-d043-421f-9e05-d02e0b05827e",
   "metadata": {},
   "outputs": [],
   "source": [
    "!pip install matplotlib\n",
    "!pip install numpy"
   ]
  },
  {
   "cell_type": "code",
   "execution_count": 2,
   "id": "0d24d3b2-37fb-4464-a7c3-018813f4afb9",
   "metadata": {},
   "outputs": [],
   "source": [
    "import matplotlib.pyplot as plt\n",
    "import numpy as np"
   ]
  },
  {
   "cell_type": "code",
   "execution_count": 5,
   "id": "80c77a86-84fc-400e-9141-b9297dd05b88",
   "metadata": {},
   "outputs": [],
   "source": [
    "def get_matrix(alpha):\n",
    "    return np.array([np.cos(alpha), -np.sin(alpha), np.sin(alpha), np.cos(alpha)]).reshape(2,2)"
   ]
  },
  {
   "cell_type": "markdown",
   "id": "acc465c1-b34e-4812-ba02-df5f44647aca",
   "metadata": {},
   "source": [
    "# Загадочная матрица из sin и cos\n",
    "#### В коде ниже попробуйте потихоньку менять значение $x$ и смотреть, что происходит с графиком. Более того, было бы интересно засунуть конструкцию рисования графика plt.plot в for и поставить маленький шаг, и пронаблюдать крайне интересную картину."
   ]
  },
  {
   "cell_type": "code",
   "execution_count": 97,
   "id": "8c6cb64e-a3ef-4b7e-a385-2055bdb4d875",
   "metadata": {},
   "outputs": [],
   "source": [
    "# angle = your_value\n",
    "angle = "
   ]
  },
  {
   "cell_type": "code",
   "execution_count": null,
   "id": "22ab3c6e-077f-4dcb-bbb9-f839800417c6",
   "metadata": {},
   "outputs": [],
   "source": [
    "x = np.array([1, 2])\n",
    "y = get_matrix(np.radians(angle))@x\n",
    "plt.figure()\n",
    "plt.plot([0, x[0]], [0, x[1]], color='b', marker='o')\n",
    "plt.plot([0, y[0]], [0, y[1]], color='r', marker='o')"
   ]
  },
  {
   "cell_type": "markdown",
   "id": "61dbbe5b-71df-4721-8771-a938e1effd33",
   "metadata": {},
   "source": [
    "# А ее определитель?\n",
    "#### Попробуйте теперь следующее - давайте сделаем очень странную штуку: будем менять alpha также в цикле, и считать на каждой итерации определитель полученной из alpha матрицы с помощью функции get_matrix. Определитель считать с помощью np.linalg.det"
   ]
  },
  {
   "cell_type": "code",
   "execution_count": null,
   "id": "76d5b3ce-e768-494b-8d90-75794b5cdc68",
   "metadata": {},
   "outputs": [],
   "source": [
    "# angle - целое число)\n",
    "for i in range(angle):\n",
    "    print()"
   ]
  },
  {
   "cell_type": "markdown",
   "id": "1f54e77f-2b8b-409d-b469-8fc66e2a6cf4",
   "metadata": {},
   "source": [
    "# Если взять другую матрицу?\n",
    "#### Хорошо, бери, вот, в функцию внизу вставляй произвольные положительные скаляры. Учти, что если какой-то график не видно, то скорее всего его перекрывает другой - matplotlib не умеет обходить эту ситуацию."
   ]
  },
  {
   "cell_type": "code",
   "execution_count": 86,
   "id": "18cfbf97-ef37-4bee-81ca-f35f9ddd03c1",
   "metadata": {},
   "outputs": [],
   "source": [
    "def get_another_matrix(k):\n",
    "    return np.array([k, 0, 0, k]).reshape(2,2)"
   ]
  },
  {
   "cell_type": "code",
   "execution_count": null,
   "id": "90043743-2513-4094-b9e5-9b081ad366f9",
   "metadata": {},
   "outputs": [],
   "source": [
    "k = 3\n",
    "y = get_another_matrix(k)@x\n",
    "plt.figure()\n",
    "plt.plot([0, x[0]], [0, x[1]], color='b', marker='o')\n",
    "plt.plot([0, y[0]], [0, y[1]], color='r', marker='o')\n",
    "plt.show()"
   ]
  },
  {
   "cell_type": "markdown",
   "id": "147994a8-7c1e-4563-9233-ac8be1fb95e5",
   "metadata": {},
   "source": [
    "# А ее определитель?\n",
    "#### Снова пробуем очень странное считаем определитель матрицы для каждого k. Видите уже закономерность, да, между размерами векторов и тем, что получается? Повторите то, что выше, но используйте $k<0$, снова попробуйте вывести определитель."
   ]
  },
  {
   "cell_type": "code",
   "execution_count": null,
   "id": "1e735ff2-323b-48bd-8211-b8bc1e58df00",
   "metadata": {},
   "outputs": [],
   "source": [
    "for i in range(k):\n",
    "    print()"
   ]
  },
  {
   "cell_type": "markdown",
   "id": "e5457a29-87ea-4f3b-96e9-c5147e423f49",
   "metadata": {},
   "source": [
    "# Теперь осознаем\n",
    "То есть, мы умножали вектор $x$ на некоторую матрицу $M$, получали такой же вектор, но... измененный? В первом случае мы, очевидно, поворачивали вектор вокруг своей оси на размер угла, во втором вектор растягивали его по направлению, то есть, мы задавали *отображение*.\n",
    "\n",
    "\n",
    "Знакомое слово, да? Изначально матрицы как раз для этого и вводились - допустим, у нас есть система $x = {x_1, x_2, x_3,.., x_n}$ и начало отсчета $O$. А если мы хотим перейти в систему, где у нас точка отсчета $A$, а вектора по своему линейно зависят от $x$? Тогда надо умножить нашу систему векторов $x$ на матрицу $S$ перехода и... получить другую систему векторов =)\n",
    "\n",
    "Идея в том, что матрицы - это способ задания как раз таки этого отображения, а ее определитель - мера растяжения/сжатия пространства при таком отображении. И никаких вам таблиц чисел и данных."
   ]
  },
  {
   "cell_type": "code",
   "execution_count": null,
   "id": "c695ce41-25da-48dd-8c07-5ea4019b1531",
   "metadata": {},
   "outputs": [],
   "source": []
  }
 ],
 "metadata": {
  "kernelspec": {
   "display_name": "Python 3 (ipykernel)",
   "language": "python",
   "name": "python3"
  },
  "language_info": {
   "codemirror_mode": {
    "name": "ipython",
    "version": 3
   },
   "file_extension": ".py",
   "mimetype": "text/x-python",
   "name": "python",
   "nbconvert_exporter": "python",
   "pygments_lexer": "ipython3",
   "version": "3.12.1"
  }
 },
 "nbformat": 4,
 "nbformat_minor": 5
}
