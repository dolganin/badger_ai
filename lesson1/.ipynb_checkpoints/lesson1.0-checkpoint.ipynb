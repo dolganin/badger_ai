{
 "cells": [
  {
   "cell_type": "markdown",
   "id": "426d5dd0-1eff-4be7-99e6-074f118af4a4",
   "metadata": {},
   "source": [
    "# Добро пожаловать на курс ПолуИИ в НГУ!\n",
    "## Занятие 0. Воспоминания о былой математике"
   ]
  },
  {
   "cell_type": "code",
   "execution_count": null,
   "id": "c2d88f14-6670-4c5c-984e-60303aed5c99",
   "metadata": {},
   "outputs": [],
   "source": []
  }
 ],
 "metadata": {
  "kernelspec": {
   "display_name": "lessons",
   "language": "python",
   "name": "lessons"
  },
  "language_info": {
   "codemirror_mode": {
    "name": "ipython",
    "version": 3
   },
   "file_extension": ".py",
   "mimetype": "text/x-python",
   "name": "python",
   "nbconvert_exporter": "python",
   "pygments_lexer": "ipython3",
   "version": "3.10.12"
  }
 },
 "nbformat": 4,
 "nbformat_minor": 5
}
